{
  "nbformat": 4,
  "nbformat_minor": 0,
  "metadata": {
    "colab": {
      "name": "loan_prediction.ipynb",
      "version": "0.3.2",
      "provenance": []
    },
    "kernelspec": {
      "name": "python3",
      "display_name": "Python 3"
    }
  },
  "cells": [
    {
      "cell_type": "markdown",
      "metadata": {
        "id": "view-in-github",
        "colab_type": "text"
      },
      "source": [
        "[View in Colaboratory](https://colab.research.google.com/github/rohit221991/loan_prediction/blob/master/loan_prediction.ipynb)"
      ]
    },
    {
      "metadata": {
        "id": "CaA1T84kVrHp",
        "colab_type": "text"
      },
      "cell_type": "markdown",
      "source": [
        "# **Loan prediction**"
      ]
    },
    {
      "metadata": {
        "id": "EUtP76zxVcd-",
        "colab_type": "code",
        "colab": {}
      },
      "cell_type": "code",
      "source": [
        ""
      ],
      "execution_count": 0,
      "outputs": []
    }
  ]
}